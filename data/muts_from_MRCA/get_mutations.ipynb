{
 "cells": [
  {
   "cell_type": "markdown",
   "id": "681aa73a-e578-4597-a285-017f2264cad7",
   "metadata": {},
   "source": [
    "# Get mutations in library strains relative to MRCA"
   ]
  },
  {
   "cell_type": "code",
   "execution_count": 1,
   "id": "17734e00-1502-4334-b3b3-6286bf5abfae",
   "metadata": {},
   "outputs": [],
   "source": [
    "import collections\n",
    "import json\n",
    "\n",
    "import Bio.Phylo\n",
    "import Bio.SeqIO\n",
    "\n",
    "import pandas as pd"
   ]
  },
  {
   "cell_type": "markdown",
   "id": "c5079b44-3266-495f-8e53-d6b0160d9f7d",
   "metadata": {},
   "source": [
    "First get a tree:"
   ]
  },
  {
   "cell_type": "code",
   "execution_count": 2,
   "id": "4f506540-4178-4161-8e6d-21b174fb5234",
   "metadata": {},
   "outputs": [],
   "source": [
    "# Load the Nextstrain JSON file\n",
    "with open(\"h3n2_ha.json\") as f:\n",
    "    data = json.load(f)\n",
    "\n",
    "# Build tree with branch attributes\n",
    "def build_phylo_tree(node):\n",
    "    clade_name = node.get('name', '')\n",
    "    clade = Bio.Phylo.BaseTree.Clade(name=clade_name)\n",
    "    clade.branch_attrs = node[\"branch_attrs\"]\n",
    "    # If the node has children, create them recursively\n",
    "    if 'children' in node:\n",
    "        clade.clades = [build_phylo_tree(child) for child in node['children']]\n",
    "    return clade\n",
    "\n",
    "# Build the phylo tree from the JSON data\n",
    "tree = build_phylo_tree(data[\"tree\"])"
   ]
  },
  {
   "cell_type": "markdown",
   "id": "9f66a753-f7b3-405d-86ca-927583fd0c7b",
   "metadata": {},
   "source": [
    "Rename the one problematic strain in tree wrongly named \"A/SOUTHAFRICA/R07876/202023\" rather than \"A/SOUTHAFRICA/R07876/2023\":"
   ]
  },
  {
   "cell_type": "code",
   "execution_count": 3,
   "id": "7ff182d1-d339-48b2-8f49-05d04f8b5098",
   "metadata": {},
   "outputs": [],
   "source": [
    "for n in tree.find_clades(name=\"A/SOUTHAFRICA/R07876/202023\"):\n",
    "    n.name = \"A/SOUTHAFRICA/R07876/2023\""
   ]
  },
  {
   "cell_type": "markdown",
   "id": "53ddc81b-da0a-4733-b5c1-70afbc3d47bc",
   "metadata": {
    "execution": {
     "iopub.execute_input": "2024-10-30T21:08:41.790149Z",
     "iopub.status.busy": "2024-10-30T21:08:41.789594Z",
     "iopub.status.idle": "2024-10-30T21:08:41.836060Z",
     "shell.execute_reply": "2024-10-30T21:08:41.835286Z",
     "shell.execute_reply.started": "2024-10-30T21:08:41.790107Z"
    }
   },
   "source": [
    "Now we want to find the common ancestor of all of the library strains from 2022-2023 (these are the recent strains):"
   ]
  },
  {
   "cell_type": "code",
   "execution_count": 4,
   "id": "b7994e95-26e2-487d-98ef-6b485a3beec2",
   "metadata": {},
   "outputs": [
    {
     "name": "stdout",
     "output_type": "stream",
     "text": [
      "Got 62 recent strains with titers\n"
     ]
    }
   ],
   "source": [
    "recent_strains = (\n",
    "    pd.read_csv(\"../H3_seqneut_titers.csv\")\n",
    "    [[\"virus\"]]\n",
    "    .drop_duplicates()\n",
    "    .replace({'virus': {'A/SOUTHAFRICA/R07876/202023': 'A/SOUTHAFRICA/R07876/2023'}}) # Replace same problematic strain\n",
    "    .assign(year=lambda x: x[\"virus\"].str.split(\"/\").str[-1])\n",
    "    .query(r\"year.str.fullmatch(r'\\d{4}')\")\n",
    "    .assign(year=lambda x: x[\"year\"].astype(int))\n",
    "    .query(\"(year >= 2022) and (year <= 2023)\")\n",
    "    .query('virus != \"A/Thailand/8/2022\"') # Ignore Thailand/8/2022, an egg-based vaccine strain\n",
    "    # names used in seqneut titers have underscores removed\n",
    "    .assign(treename=lambda x: x[\"virus\"].str.replace(\"_\", \"\"))\n",
    "    .set_index(\"virus\")\n",
    "    [\"treename\"]\n",
    "    .to_dict()\n",
    ")\n",
    "\n",
    "recent_strains_inv = {val: key for (key, val) in recent_strains.items()}\n",
    "\n",
    "print(f\"Got {len(recent_strains)} recent strains with titers\")"
   ]
  },
  {
   "cell_type": "markdown",
   "id": "95a8a778-e3ff-41c2-bdac-d6d56ed2a0da",
   "metadata": {},
   "source": [
    "Get the most recent common ancestor of the strains w titers:"
   ]
  },
  {
   "cell_type": "code",
   "execution_count": 5,
   "id": "e63e6140-1044-4252-8a53-47e5b8e956c2",
   "metadata": {},
   "outputs": [
    {
     "name": "stdout",
     "output_type": "stream",
     "text": [
      "mrca_tree.count_terminals()=1719, tree.count_terminals()=1733\n"
     ]
    }
   ],
   "source": [
    "terminal_names = [n.name for n in tree.get_terminals()]\n",
    "\n",
    "get_mrca = [s for s in recent_strains.values()]\n",
    "\n",
    "assert set(get_mrca).issubset(terminal_names), set(get_mrca) - set(terminal_names)\n",
    "\n",
    "mrca_tree = tree.common_ancestor(get_mrca)\n",
    "print(f\"{mrca_tree.count_terminals()=}, {tree.count_terminals()=}\")"
   ]
  },
  {
   "cell_type": "markdown",
   "id": "904f89a6-8ee2-4efd-a3a0-3b1283164561",
   "metadata": {
    "execution": {
     "iopub.execute_input": "2024-10-30T21:42:20.275231Z",
     "iopub.status.busy": "2024-10-30T21:42:20.274534Z",
     "iopub.status.idle": "2024-10-30T21:42:20.324704Z",
     "shell.execute_reply": "2024-10-30T21:42:20.323558Z",
     "shell.execute_reply.started": "2024-10-30T21:42:20.275176Z"
    }
   },
   "source": [
    "Now get mutations in each terminal node:"
   ]
  },
  {
   "cell_type": "code",
   "execution_count": 6,
   "id": "142794dd-d9fd-4e16-b0c2-d7d96057d2ad",
   "metadata": {},
   "outputs": [
    {
     "data": {
      "text/html": [
       "<div>\n",
       "<style scoped>\n",
       "    .dataframe tbody tr th:only-of-type {\n",
       "        vertical-align: middle;\n",
       "    }\n",
       "\n",
       "    .dataframe tbody tr th {\n",
       "        vertical-align: top;\n",
       "    }\n",
       "\n",
       "    .dataframe thead th {\n",
       "        text-align: right;\n",
       "    }\n",
       "</style>\n",
       "<table border=\"1\" class=\"dataframe\">\n",
       "  <thead>\n",
       "    <tr style=\"text-align: right;\">\n",
       "      <th></th>\n",
       "      <th>strain</th>\n",
       "      <th>nucleotide_mutations_list</th>\n",
       "      <th>HA1_mutations_list</th>\n",
       "      <th>HA2_mutations_list</th>\n",
       "      <th>nucleotide_mutations</th>\n",
       "      <th>HA1_protein_mutations</th>\n",
       "      <th>protein_mutations</th>\n",
       "    </tr>\n",
       "  </thead>\n",
       "  <tbody>\n",
       "    <tr>\n",
       "      <th>0</th>\n",
       "      <td>A/AbuDhabi/6753/2023</td>\n",
       "      <td>[A24G, G213A, G222A, A352G, C413A, A426G, T449...</td>\n",
       "      <td>[E50K, D53N, N96S, K121E, I140K, H156S, I192F,...</td>\n",
       "      <td>[N49S]</td>\n",
       "      <td>21</td>\n",
       "      <td>8</td>\n",
       "      <td>9</td>\n",
       "    </tr>\n",
       "    <tr>\n",
       "      <th>1</th>\n",
       "      <td>A/Bangkok/P3599/2023</td>\n",
       "      <td>[A24G, G95A, G213A, G222A, A352G, C413A, T449C...</td>\n",
       "      <td>[E50K, D53N, N96S, I140K, H156S, I192F, Q197H,...</td>\n",
       "      <td>[N49S]</td>\n",
       "      <td>25</td>\n",
       "      <td>8</td>\n",
       "      <td>9</td>\n",
       "    </tr>\n",
       "    <tr>\n",
       "      <th>2</th>\n",
       "      <td>A/Bangkok/P3755/2023</td>\n",
       "      <td>[A24G, G213A, G222A, A305G, A352G, C413A, A429...</td>\n",
       "      <td>[E50K, D53N, N96S, N122D, I140K, S144N, H156S,...</td>\n",
       "      <td>[N49S]</td>\n",
       "      <td>24</td>\n",
       "      <td>10</td>\n",
       "      <td>11</td>\n",
       "    </tr>\n",
       "    <tr>\n",
       "      <th>3</th>\n",
       "      <td>A/Bhutan/0006/2023</td>\n",
       "      <td>[T56A, G63A, G101A, T208C, A209G, G222A, A352G...</td>\n",
       "      <td>[I48T, D53N, N96S, H156S, Q173R, I192F]</td>\n",
       "      <td>[N49S]</td>\n",
       "      <td>21</td>\n",
       "      <td>6</td>\n",
       "      <td>7</td>\n",
       "    </tr>\n",
       "    <tr>\n",
       "      <th>4</th>\n",
       "      <td>A/Bhutan/0845/2023</td>\n",
       "      <td>[A24G, A138G, G213A, G222A, A352G, C413A, T449...</td>\n",
       "      <td>[I25V, E50K, D53N, N96S, I140K, H156S, I192F, ...</td>\n",
       "      <td>[V18M, N49S]</td>\n",
       "      <td>23</td>\n",
       "      <td>8</td>\n",
       "      <td>10</td>\n",
       "    </tr>\n",
       "    <tr>\n",
       "      <th>...</th>\n",
       "      <td>...</td>\n",
       "      <td>...</td>\n",
       "      <td>...</td>\n",
       "      <td>...</td>\n",
       "      <td>...</td>\n",
       "      <td>...</td>\n",
       "      <td>...</td>\n",
       "    </tr>\n",
       "    <tr>\n",
       "      <th>57</th>\n",
       "      <td>A/TECPAN/017FLU/2023</td>\n",
       "      <td>[G213A, T300G, G392A, T484A, T650C, A665G, T74...</td>\n",
       "      <td>[E50K, F79V, I140K, I242M]</td>\n",
       "      <td>[V18M]</td>\n",
       "      <td>12</td>\n",
       "      <td>4</td>\n",
       "      <td>5</td>\n",
       "    </tr>\n",
       "    <tr>\n",
       "      <th>58</th>\n",
       "      <td>A/Townsville/68/2023</td>\n",
       "      <td>[A24G, T89C, G213A, G222A, A352G, C413A, T449C...</td>\n",
       "      <td>[E50K, D53N, N96S, I140K, H156S, I192F, I223V,...</td>\n",
       "      <td>[D46N, N49S]</td>\n",
       "      <td>23</td>\n",
       "      <td>8</td>\n",
       "      <td>10</td>\n",
       "    </tr>\n",
       "    <tr>\n",
       "      <th>59</th>\n",
       "      <td>A/Victoria/1033/2023</td>\n",
       "      <td>[A24G, G213A, G222A, A352G, C413A, T449C, T484...</td>\n",
       "      <td>[E50K, D53N, N96S, I140K, H156S, I192F, I223V,...</td>\n",
       "      <td>[N49S]</td>\n",
       "      <td>20</td>\n",
       "      <td>8</td>\n",
       "      <td>9</td>\n",
       "    </tr>\n",
       "    <tr>\n",
       "      <th>60</th>\n",
       "      <td>A/Wisconsin/27/2023</td>\n",
       "      <td>[A24G, G213A, G222A, A352G, C413A, T449C, A452...</td>\n",
       "      <td>[E50K, D53N, N96S, I140K, H156S, I192F, I223V,...</td>\n",
       "      <td>[N49S]</td>\n",
       "      <td>21</td>\n",
       "      <td>8</td>\n",
       "      <td>9</td>\n",
       "    </tr>\n",
       "    <tr>\n",
       "      <th>61</th>\n",
       "      <td>A/YAMAGATA/98/2023</td>\n",
       "      <td>[G79A, T83C, G213A, T300G, A468G, T484A, T650C...</td>\n",
       "      <td>[G5E, E50K, F79V, T135A, I140K, S262N]</td>\n",
       "      <td>[]</td>\n",
       "      <td>12</td>\n",
       "      <td>6</td>\n",
       "      <td>6</td>\n",
       "    </tr>\n",
       "  </tbody>\n",
       "</table>\n",
       "<p>62 rows × 7 columns</p>\n",
       "</div>"
      ],
      "text/plain": [
       "                  strain                          nucleotide_mutations_list  \\\n",
       "0   A/AbuDhabi/6753/2023  [A24G, G213A, G222A, A352G, C413A, A426G, T449...   \n",
       "1   A/Bangkok/P3599/2023  [A24G, G95A, G213A, G222A, A352G, C413A, T449C...   \n",
       "2   A/Bangkok/P3755/2023  [A24G, G213A, G222A, A305G, A352G, C413A, A429...   \n",
       "3     A/Bhutan/0006/2023  [T56A, G63A, G101A, T208C, A209G, G222A, A352G...   \n",
       "4     A/Bhutan/0845/2023  [A24G, A138G, G213A, G222A, A352G, C413A, T449...   \n",
       "..                   ...                                                ...   \n",
       "57  A/TECPAN/017FLU/2023  [G213A, T300G, G392A, T484A, T650C, A665G, T74...   \n",
       "58  A/Townsville/68/2023  [A24G, T89C, G213A, G222A, A352G, C413A, T449C...   \n",
       "59  A/Victoria/1033/2023  [A24G, G213A, G222A, A352G, C413A, T449C, T484...   \n",
       "60   A/Wisconsin/27/2023  [A24G, G213A, G222A, A352G, C413A, T449C, A452...   \n",
       "61    A/YAMAGATA/98/2023  [G79A, T83C, G213A, T300G, A468G, T484A, T650C...   \n",
       "\n",
       "                                   HA1_mutations_list HA2_mutations_list  \\\n",
       "0   [E50K, D53N, N96S, K121E, I140K, H156S, I192F,...             [N49S]   \n",
       "1   [E50K, D53N, N96S, I140K, H156S, I192F, Q197H,...             [N49S]   \n",
       "2   [E50K, D53N, N96S, N122D, I140K, S144N, H156S,...             [N49S]   \n",
       "3             [I48T, D53N, N96S, H156S, Q173R, I192F]             [N49S]   \n",
       "4   [I25V, E50K, D53N, N96S, I140K, H156S, I192F, ...       [V18M, N49S]   \n",
       "..                                                ...                ...   \n",
       "57                         [E50K, F79V, I140K, I242M]             [V18M]   \n",
       "58  [E50K, D53N, N96S, I140K, H156S, I192F, I223V,...       [D46N, N49S]   \n",
       "59  [E50K, D53N, N96S, I140K, H156S, I192F, I223V,...             [N49S]   \n",
       "60  [E50K, D53N, N96S, I140K, H156S, I192F, I223V,...             [N49S]   \n",
       "61             [G5E, E50K, F79V, T135A, I140K, S262N]                 []   \n",
       "\n",
       "    nucleotide_mutations  HA1_protein_mutations  protein_mutations  \n",
       "0                     21                      8                  9  \n",
       "1                     25                      8                  9  \n",
       "2                     24                     10                 11  \n",
       "3                     21                      6                  7  \n",
       "4                     23                      8                 10  \n",
       "..                   ...                    ...                ...  \n",
       "57                    12                      4                  5  \n",
       "58                    23                      8                 10  \n",
       "59                    20                      8                  9  \n",
       "60                    21                      8                  9  \n",
       "61                    12                      6                  6  \n",
       "\n",
       "[62 rows x 7 columns]"
      ]
     },
     "execution_count": 6,
     "metadata": {},
     "output_type": "execute_result"
    }
   ],
   "source": [
    "def condense_muts(muts):\n",
    "    \"\"\"Condense mutations for a site.\"\"\"\n",
    "    muts_by_site = collections.defaultdict(list)\n",
    "    for m in muts:\n",
    "        site = int(m[1: -1])\n",
    "        muts_by_site[site].append(m)\n",
    "    muts_by_site = sorted(muts_by_site.items())\n",
    "    condensed_muts = []\n",
    "    for site, mlist in muts_by_site:\n",
    "        if len(mlist) == 1:\n",
    "            condensed_muts.append(mlist[0])\n",
    "        else:\n",
    "            assert len(mlist) > 1\n",
    "            start_nt = mlist[0][0]\n",
    "            end_nt = mlist[-1][-1]\n",
    "            if start_nt != end_nt:\n",
    "                condensed_muts.append(f\"{start_nt}{site}{end_nt}\")\n",
    "    return condensed_muts\n",
    "\n",
    "records = []\n",
    "for strain in get_mrca:\n",
    "    node = list(mrca_tree.find_clades(name=strain))\n",
    "    node = node[0]\n",
    "    muts = {\"nuc\": [], \"HA1\": [], \"HA2\": []}\n",
    "    for ancestor in mrca_tree.get_path(node):\n",
    "        for mut_type in muts:\n",
    "            if mut_type in ancestor.branch_attrs[\"mutations\"]:\n",
    "                muts[mut_type] += ancestor.branch_attrs[\"mutations\"][mut_type]\n",
    "    records.append(\n",
    "        (\n",
    "            recent_strains_inv[strain],\n",
    "            condense_muts(muts[\"nuc\"]),\n",
    "            condense_muts(muts[\"HA1\"]),\n",
    "            condense_muts(muts[\"HA2\"]),\n",
    "        )\n",
    "    )\n",
    "\n",
    "muts = pd.DataFrame(\n",
    "    records,\n",
    "    columns=[\"strain\", \"nucleotide_mutations_list\", \"HA1_mutations_list\", \"HA2_mutations_list\"],\n",
    ").assign(\n",
    "    nucleotide_mutations=lambda x: x[\"nucleotide_mutations_list\"].map(len),\n",
    "    HA1_protein_mutations=lambda x: x[\"HA1_mutations_list\"].map(len),\n",
    "    protein_mutations=lambda x: x[\"HA1_mutations_list\"].map(len) + x[\"HA2_mutations_list\"].map(len),\n",
    ")\n",
    "\n",
    "muts.to_csv(\"HA_mutations_from_MRCA.csv\", index=False)\n",
    "\n",
    "muts"
   ]
  },
  {
   "cell_type": "code",
   "execution_count": null,
   "id": "a340943a-a8a6-4752-83de-e3c147b79277",
   "metadata": {},
   "outputs": [],
   "source": []
  }
 ],
 "metadata": {
  "kernelspec": {
   "display_name": "Python 3 (ipykernel)",
   "language": "python",
   "name": "python3"
  },
  "language_info": {
   "codemirror_mode": {
    "name": "ipython",
    "version": 3
   },
   "file_extension": ".py",
   "mimetype": "text/x-python",
   "name": "python",
   "nbconvert_exporter": "python",
   "pygments_lexer": "ipython3",
   "version": "3.12.5"
  }
 },
 "nbformat": 4,
 "nbformat_minor": 5
}
