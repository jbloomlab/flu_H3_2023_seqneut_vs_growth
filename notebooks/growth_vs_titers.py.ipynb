{
 "cells": [
  {
   "cell_type": "markdown",
   "id": "9771df61-f21d-426e-9160-ac576f4f3419",
   "metadata": {},
   "source": [
    "# Compare strain growth versus titers"
   ]
  },
  {
   "cell_type": "code",
   "execution_count": 1,
   "id": "241784cd-6b84-49e4-ac8f-0a8ac4114ada",
   "metadata": {
    "execution": {
     "iopub.execute_input": "2024-09-12T22:13:16.853047Z",
     "iopub.status.busy": "2024-09-12T22:13:16.852512Z",
     "iopub.status.idle": "2024-09-12T22:13:17.046774Z",
     "shell.execute_reply": "2024-09-12T22:13:17.045530Z",
     "shell.execute_reply.started": "2024-09-12T22:13:16.853007Z"
    }
   },
   "outputs": [],
   "source": [
    "######## snakemake preamble start (automatically inserted, do not edit) ########\n",
    "import sys;sys.path.extend(['/fh/fast/bloom_j/software/miniforge3/envs/flu_H3_2023-2024_strains_MLR/lib/python3.12/site-packages', '/fh/fast/bloom_j/computational_notebooks/jbloom/2024/flu_H3_2023-2024_strains_MLR', '/fh/fast/bloom_j/software/miniforge3/envs/flu_H3_2023-2024_strains_MLR/bin', '/fh/fast/bloom_j/software/miniforge3/envs/flu_H3_2023-2024_strains_MLR/lib/python3.12', '/fh/fast/bloom_j/software/miniforge3/envs/flu_H3_2023-2024_strains_MLR/lib/python3.12/lib-dynload', '/fh/fast/bloom_j/software/miniforge3/envs/flu_H3_2023-2024_strains_MLR/lib/python3.12/site-packages', '/fh/fast/bloom_j/software/miniforge3/envs/flu_H3_2023-2024_strains_MLR/lib/python3.12/site-packages/setuptools/_vendor', '/home/jbloom/.cache/snakemake/snakemake/source-cache/runtime-cache/tmp6hdnc9wr/file/fh/fast/bloom_j/computational_notebooks/jbloom/2024/flu_H3_2023-2024_strains_MLR/notebooks', '/fh/fast/bloom_j/computational_notebooks/jbloom/2024/flu_H3_2023-2024_strains_MLR/notebooks']);import pickle;from snakemake import script;script.snakemake = pickle.loads(b'\\x80\\x04\\x95\\x13\\n\\x00\\x00\\x00\\x00\\x00\\x00\\x8c\\x10snakemake.script\\x94\\x8c\\tSnakemake\\x94\\x93\\x94)\\x81\\x94}\\x94(\\x8c\\x05input\\x94\\x8c\\x0csnakemake.io\\x94\\x8c\\nInputFiles\\x94\\x93\\x94)\\x81\\x94(\\x8cEresults/mlr/growth_advantages_gisaid-ha1-within1_2023-mincounts50.csv\\x94\\x8c\\x1adata/H3_seqneut_titers.csv\\x94e}\\x94(\\x8c\\x06_names\\x94}\\x94(\\x8c\\x06growth\\x94K\\x00N\\x86\\x94\\x8c\\x06titers\\x94K\\x01N\\x86\\x94u\\x8c\\x12_allowed_overrides\\x94]\\x94(\\x8c\\x05index\\x94\\x8c\\x04sort\\x94eh\\x15h\\x06\\x8c\\x0eAttributeGuard\\x94\\x93\\x94)\\x81\\x94}\\x94\\x8c\\x04name\\x94h\\x15sbh\\x16h\\x18)\\x81\\x94}\\x94h\\x1bh\\x16sbh\\x0fh\\nh\\x11h\\x0bub\\x8c\\x06output\\x94h\\x06\\x8c\\x0bOutputFiles\\x94\\x93\\x94)\\x81\\x94\\x8cRresults/growth_vs_titers/growth_vs_titers_gisaid-ha1-within1_2023-mincounts50.html\\x94a}\\x94(h\\r}\\x94\\x8c\\x05chart\\x94K\\x00N\\x86\\x94sh\\x13]\\x94(h\\x15h\\x16eh\\x15h\\x18)\\x81\\x94}\\x94h\\x1bh\\x15sbh\\x16h\\x18)\\x81\\x94}\\x94h\\x1bh\\x16sbh%h\"ub\\x8c\\x06params\\x94h\\x06\\x8c\\x06Params\\x94\\x93\\x94)\\x81\\x94}\\x94(h\\r}\\x94h\\x13]\\x94(h\\x15h\\x16eh\\x15h\\x18)\\x81\\x94}\\x94h\\x1bh\\x15sbh\\x16h\\x18)\\x81\\x94}\\x94h\\x1bh\\x16sbub\\x8c\\twildcards\\x94h\\x06\\x8c\\tWildcards\\x94\\x93\\x94)\\x81\\x94(\\x8c\\x12gisaid-ha1-within1\\x94\\x8c\\x102023-mincounts50\\x94e}\\x94(h\\r}\\x94(\\x8c\\x07protset\\x94K\\x00N\\x86\\x94\\x8c\\x06mlrfit\\x94K\\x01N\\x86\\x94uh\\x13]\\x94(h\\x15h\\x16eh\\x15h\\x18)\\x81\\x94}\\x94h\\x1bh\\x15sbh\\x16h\\x18)\\x81\\x94}\\x94h\\x1bh\\x16sb\\x8c\\x07protset\\x94h;\\x8c\\x06mlrfit\\x94h<ub\\x8c\\x07threads\\x94K\\x01\\x8c\\tresources\\x94h\\x06\\x8c\\tResources\\x94\\x93\\x94)\\x81\\x94(K\\x01K\\x01\\x8c\\x04/tmp\\x94e}\\x94(h\\r}\\x94(\\x8c\\x06_cores\\x94K\\x00N\\x86\\x94\\x8c\\x06_nodes\\x94K\\x01N\\x86\\x94\\x8c\\x06tmpdir\\x94K\\x02N\\x86\\x94uh\\x13]\\x94(h\\x15h\\x16eh\\x15h\\x18)\\x81\\x94}\\x94h\\x1bh\\x15sbh\\x16h\\x18)\\x81\\x94}\\x94h\\x1bh\\x16sbhRK\\x01hTK\\x01hVhOub\\x8c\\x03log\\x94h\\x06\\x8c\\x03Log\\x94\\x93\\x94)\\x81\\x94\\x8cSresults/growth_vs_titers/growth_vs_titers_gisaid-ha1-within1_2023-mincounts50.ipynb\\x94a}\\x94(h\\r}\\x94\\x8c\\x08notebook\\x94K\\x00N\\x86\\x94sh\\x13]\\x94(h\\x15h\\x16eh\\x15h\\x18)\\x81\\x94}\\x94h\\x1bh\\x15sbh\\x16h\\x18)\\x81\\x94}\\x94h\\x1bh\\x16sbhdhaub\\x8c\\x06config\\x94}\\x94(\\x8c\\x0cstrain_prots\\x94\\x8c(data/H3_library_constructs_protein.fasta\\x94\\x8c\\x08protsets\\x94}\\x94(\\x8c\\x12gisaid-ha1-within1\\x94}\\x94(\\x8c\\x07protset\\x94\\x8c\\x1bdata/gisaid_flu_h3_prots.fa\\x94\\x8c\\x04trim\\x94]\\x94(K\\x14M\\\\\\x01e\\x8c\\x07maxdiff\\x94K\\x01u\\x8c\\x10gisaid-ha1-exact\\x94}\\x94(\\x8c\\x07protset\\x94\\x8c\\x1bdata/gisaid_flu_h3_prots.fa\\x94\\x8c\\x04trim\\x94]\\x94(K\\x14M\\\\\\x01e\\x8c\\x07maxdiff\\x94K\\x00u\\x8c\\x19gisaid-ectodomain-within1\\x94}\\x94(\\x8c\\x07protset\\x94\\x8c\\x1bdata/gisaid_flu_h3_prots.fa\\x94\\x8c\\x04trim\\x94]\\x94(K\\x14M\\x15\\x02e\\x8c\\x07maxdiff\\x94K\\x01uu\\x8c\\x07mlrfits\\x94}\\x94(\\x8c\\x112023-mincounts100\\x94}\\x94(\\x8c\\ndate_start\\x94\\x8c\\x08datetime\\x94\\x8c\\x04date\\x94\\x93\\x94C\\x04\\x07\\xe7\\x01\\x01\\x94\\x85\\x94R\\x94\\x8c\\x08date_end\\x94h\\x8dC\\x04\\x07\\xe7\\x0c\\x1f\\x94\\x85\\x94R\\x94\\x8c\\nmin_counts\\x94Kd\\x8c\\x13keep_not_in_library\\x94\\x89\\x8c\\x18keep_insufficient_counts\\x94\\x89u\\x8c\\x1b2023-mincounts100-keepother\\x94}\\x94(\\x8c\\ndate_start\\x94h\\x8dC\\x04\\x07\\xe7\\x01\\x01\\x94\\x85\\x94R\\x94\\x8c\\x08date_end\\x94h\\x8dC\\x04\\x07\\xe7\\x0c\\x1f\\x94\\x85\\x94R\\x94\\x8c\\nmin_counts\\x94Kd\\x8c\\x13keep_not_in_library\\x94\\x88\\x8c\\x18keep_insufficient_counts\\x94\\x88u\\x8c\\x102023-mincounts50\\x94}\\x94(\\x8c\\ndate_start\\x94h\\x8dC\\x04\\x07\\xe7\\x01\\x01\\x94\\x85\\x94R\\x94\\x8c\\x08date_end\\x94h\\x8dC\\x04\\x07\\xe7\\x0c\\x1f\\x94\\x85\\x94R\\x94\\x8c\\nmin_counts\\x94K2\\x8c\\x13keep_not_in_library\\x94\\x89\\x8c\\x18keep_insufficient_counts\\x94\\x89u\\x8c\\x1dmid2022early2024-mincounts100\\x94}\\x94(\\x8c\\ndate_start\\x94h\\x8dC\\x04\\x07\\xe6\\x07\\x01\\x94\\x85\\x94R\\x94\\x8c\\x08date_end\\x94h\\x8dC\\x04\\x07\\xe8\\x03\\x1f\\x94\\x85\\x94R\\x94\\x8c\\nmin_counts\\x94Kd\\x8c\\x13keep_not_in_library\\x94\\x89\\x8c\\x18keep_insufficient_counts\\x94\\x89u\\x8c\\x172022to2024-mincounts100\\x94}\\x94(\\x8c\\ndate_start\\x94h\\x8dC\\x04\\x07\\xe6\\x01\\x01\\x94\\x85\\x94R\\x94\\x8c\\x08date_end\\x94h\\x8dC\\x04\\x07\\xe8\\x08\\x01\\x94\\x85\\x94R\\x94\\x8c\\nmin_counts\\x94Kd\\x8c\\x13keep_not_in_library\\x94\\x89\\x8c\\x18keep_insufficient_counts\\x94\\x89uu\\x8c\\x0cmlr_settings\\x94}\\x94(\\x8c\\x0cpivot_strain\\x94\\x8c\\x18A/Singapore/NUH0526/2023\\x94\\x8c\\x16plot_window_frame_days\\x94K\\x0e\\x8c\\x07mlr_tau\\x94G@\\x0c\\xcc\\xcc\\xcc\\xcc\\xcc\\xcd\\x8c\\nnum_warmup\\x94M\\xe8\\x03\\x8c\\x0bnum_samples\\x94M\\xe8\\x03\\x8c\\x0chpd_interval\\x94K_u\\x8c\\x06titers\\x94\\x8c\\x1adata/H3_seqneut_titers.csv\\x94u\\x8c\\x04rule\\x94\\x8c\\x10growth_vs_titers\\x94\\x8c\\x0fbench_iteration\\x94N\\x8c\\tscriptdir\\x94\\x8c[/fh/fast/bloom_j/computational_notebooks/jbloom/2024/flu_H3_2023-2024_strains_MLR/notebooks\\x94ub.');del script;from snakemake.logging import logger;from snakemake.script import snakemake; logger.printshellcmds = False;import os; os.chdir(r'/fh/fast/bloom_j/computational_notebooks/jbloom/2024/flu_H3_2023-2024_strains_MLR');\n",
    "######## snakemake preamble end #########\n"
   ]
  },
  {
   "cell_type": "code",
   "execution_count": 2,
   "id": "d7a95ba6-42e0-41d1-8027-f4400200c93f",
   "metadata": {
    "execution": {
     "iopub.execute_input": "2024-09-12T22:13:17.053001Z",
     "iopub.status.busy": "2024-09-12T22:13:17.052556Z",
     "iopub.status.idle": "2024-09-12T22:13:17.060633Z",
     "shell.execute_reply": "2024-09-12T22:13:17.059465Z",
     "shell.execute_reply.started": "2024-09-12T22:13:17.052955Z"
    }
   },
   "outputs": [
    {
     "name": "stdout",
     "output_type": "stream",
     "text": [
      "gisaid-ha1-within1_2023-mincounts50\n"
     ]
    }
   ],
   "source": [
    "# get variables from snakemake\n",
    "\n",
    "desc = f\"{snakemake.wildcards.protset}_{snakemake.wildcards.mlrfit}\"\n",
    "print(desc)\n",
    "\n",
    "growth_csv = snakemake.input.growth\n",
    "titers_csv = snakemake.input.titers\n",
    "\n",
    "chart_html = snakemake.output.chart\n",
    "\n",
    "corr_titer_cutoff_range = [40, 1000]\n",
    "corr_titer_cutoff_points = 100  # logarithmically spaced\n",
    "\n",
    "nrandom = 20"
   ]
  },
  {
   "cell_type": "code",
   "execution_count": null,
   "id": "0f165cc0-0734-491c-8cf2-b4dca15d5be7",
   "metadata": {
    "execution": {
     "iopub.execute_input": "2024-09-12T22:13:17.065508Z",
     "iopub.status.busy": "2024-09-12T22:13:17.064880Z"
    }
   },
   "outputs": [],
   "source": [
    "import altair as alt\n",
    "\n",
    "import numpy\n",
    "\n",
    "import pandas as pd\n",
    "\n",
    "import scipy\n",
    "\n",
    "_ = alt.data_transformers.disable_max_rows()"
   ]
  },
  {
   "cell_type": "markdown",
   "id": "bfb5c5bd-3b88-455b-97f1-ecb7735d7d77",
   "metadata": {},
   "source": [
    "Read growth, then get titers just for those strains with growth estimates:"
   ]
  },
  {
   "cell_type": "code",
   "execution_count": null,
   "id": "3d943e1b-2f9c-465f-a66b-cb9ca073641e",
   "metadata": {},
   "outputs": [],
   "source": [
    "growth = pd.read_csv(growth_csv)\n",
    "\n",
    "titers = (\n",
    "    pd.read_csv(titers_csv)\n",
    "    .rename(columns={\"virus\": \"strain\"})\n",
    "    [[\"strain\", \"serum\", \"titer\"]]\n",
    "    .assign(strain=lambda x: x[\"strain\"].map(lambda s: 'A/Singapore/NUH0526/2023' if s == 'A/Massachusetts/18/2022' else s))\n",
    ")\n",
    "assert set(growth[\"strain\"]).issubset(titers[\"strain\"])\n",
    "assert len(titers) == len(titers.groupby([\"strain\", \"serum\"]))\n",
    "\n",
    "print(\n",
    "    f\"Read titers for {titers['strain'].nunique()} strains, of which \"\n",
    "    f\"{growth['strain'].nunique()} have growth advantage estimates.\"\n",
    ")\n",
    "nsera = titers[\"serum\"].nunique()\n",
    "\n",
    "titers = titers[titers[\"strain\"].isin(set(growth[\"strain\"]))]"
   ]
  },
  {
   "cell_type": "markdown",
   "id": "161ad8f9-d60d-4e64-8764-c151db129485",
   "metadata": {
    "execution": {
     "iopub.execute_input": "2024-09-12T13:37:21.300919Z",
     "iopub.status.busy": "2024-09-12T13:37:21.300122Z",
     "iopub.status.idle": "2024-09-12T13:37:21.314166Z",
     "shell.execute_reply": "2024-09-12T13:37:21.312799Z",
     "shell.execute_reply.started": "2024-09-12T13:37:21.300853Z"
    }
   },
   "source": [
    "Get the correlation of growth with the **geometric** mean titer, median titer, and the fraction of sera below whatever cutoff gives teh best correlation.\n",
    "Do this for the actual data, and randomizations of the data (randomizing the growth rates among strains) to get P-values.\n",
    "Some notes:\n",
    " - Correlations with mean and median titers are with the **log** of these titers, whereas with fraction sera below cutoff it is with the value\n",
    " - The P-values are one-sided, testing if mean and median titers are negatively correlated with growth, and fraction sera below cutoff is positive correlated."
   ]
  },
  {
   "cell_type": "code",
   "execution_count": null,
   "id": "08819b46-a696-435c-b8f8-ed6ccba2e243",
   "metadata": {},
   "outputs": [],
   "source": [
    "def get_corrs_by_cutoff(\n",
    "    growth_df,\n",
    "    titers_df,\n",
    "    cutoff_range=corr_titer_cutoff_range,\n",
    "    cutoff_points=corr_titer_cutoff_points,\n",
    "):\n",
    "    \"\"\"For each titer cutoff, get Pearson correlation of growth w frac titers below.\"\"\"\n",
    "    assert cutoff_range[0] < cutoff_range[1]\n",
    "    corrs = []\n",
    "    for cutoff in numpy.logspace(\n",
    "        numpy.log10(cutoff_range[0]), numpy.log10(cutoff_range[1]), cutoff_points\n",
    "    ):\n",
    "        frac_below = (\n",
    "            titers_df\n",
    "            .groupby(\"strain\", as_index=False)\n",
    "            .aggregate(frac=pd.NamedAgg(\"titer\", lambda s: (s <= cutoff).sum() / len(s)))\n",
    "            .merge(growth_df[[\"strain\", \"growth_advantage_median\"]])\n",
    "        )\n",
    "        if frac_below[\"frac\"].nunique() == 1:\n",
    "            continue  # cannot compute correlation if values all identical\n",
    "        r = scipy.stats.pearsonr(frac_below[\"growth_advantage_median\"], frac_below[\"frac\"])[0]\n",
    "        corrs.append((cutoff, r))\n",
    "    return pd.DataFrame(corrs, columns=[\"titer_cutoff\", \"correlation\"])\n",
    "\n",
    "# get actual correlations\n",
    "corr_cutoff_actual = get_corrs_by_cutoff(growth, titers)\n",
    "best_cutoff = corr_cutoff_actual.sort_values(\"correlation\")[\"titer_cutoff\"].tolist()[-1]\n",
    "corr_cutoffs = [corr_cutoff_actual.assign(dataset=\"actual\")]\n",
    "growth_actual_scatter = growth.merge(\n",
    "    titers.groupby(\"strain\", as_index=False).aggregate(\n",
    "        mean_titer=pd.NamedAgg(\"titer\", lambda s: scipy.stats.gmean(s)),\n",
    "        median_titer=pd.NamedAgg(\"titer\", \"median\"),\n",
    "        frac_below_titer=pd.NamedAgg(\"titer\", lambda s: (s <= best_cutoff).sum() / len(s)),\n",
    "    ),\n",
    "    on=\"strain\",\n",
    "    validate=\"one_to_one\",\n",
    ")\n",
    "\n",
    "# get correlations for randomizations\n",
    "randomized_corrs = {\"mean_titer\": [], \"median_titer\": [], \"frac_below_titer\": []}\n",
    "for irandom in range(nrandom):\n",
    "    numpy.random.seed(irandom)\n",
    "    growth_random = growth.assign(\n",
    "        growth_advantage_median=lambda x: numpy.random.permutation(\n",
    "            x[\"growth_advantage_median\"].values\n",
    "        )\n",
    "    )\n",
    "    corr_cutoffs.append(\n",
    "        get_corrs_by_cutoff(growth_random, titers).assign(dataset=f\"random_{irandom}\")\n",
    "    )\n",
    "    assert (growth_actual_scatter[\"strain\"] == growth_random[\"strain\"]).all()\n",
    "    for col in [\"mean_titer\", \"median_titer\"]:\n",
    "        randomized_corrs[col].append(\n",
    "            scipy.stats.pearsonr(\n",
    "                growth_random[\"growth_advantage_median\"],\n",
    "                numpy.log10(growth_actual_scatter[col]),\n",
    "            )[0]\n",
    "        )\n",
    "    randomized_corrs[\"frac_below_titer\"].append(corr_cutoffs[-1][\"correlation\"].max())\n",
    "    \n",
    "corr_cutoffs = pd.concat(corr_cutoffs, ignore_index=True)\n",
    "\n",
    "corrs_and_pvals = []\n",
    "for var in [\"mean_titer\", \"median_titer\", \"frac_below_titer\"]:\n",
    "    corr = scipy.stats.pearsonr(\n",
    "        growth_actual_scatter[\"growth_advantage_median\"],\n",
    "        numpy.log10(growth_actual_scatter[var]),\n",
    "    )[0]\n",
    "    if var == \"frac_below_titer\":\n",
    "        p = sum(r >= corr for r in randomized_corrs[var]) / nrandom\n",
    "    else:\n",
    "        p = sum(r <= corr for r in randomized_corrs[var]) / nrandom\n",
    "    corrs_and_pvals.append((var, corr, p))\n",
    "\n",
    "corrs_and_pvals = pd.DataFrame(corrs_and_pvals, columns=[\"stat\", \"correlation\", \"P\"]).assign(\n",
    "    p_str=lambda x: x[\"P\"].map(\n",
    "        lambda p: f\"P = {p:.2g}\" if p else f\"P < {1 / nrandom:.2g}\"\n",
    "    ),\n",
    "    label=lambda x: x.apply(\n",
    "        lambda r: f\"R = {r['correlation']:.2f} ({r['p_str']})\",\n",
    "        axis=1,\n",
    "    ),\n",
    ")"
   ]
  },
  {
   "cell_type": "markdown",
   "id": "78586a22-47f2-410e-8a33-c7965f32ba57",
   "metadata": {},
   "source": [
    "Plot correlation of growth with fraction of titers above a cutoff for the actual data and the randomizations:"
   ]
  },
  {
   "cell_type": "code",
   "execution_count": null,
   "id": "4c851090-b520-4e68-b58c-6e996abccf3d",
   "metadata": {},
   "outputs": [],
   "source": [
    "corr_cutoffs_chart = (\n",
    "    alt.Chart(corr_cutoffs)\n",
    "    .transform_calculate(actual=alt.datum[\"dataset\"] == \"actual\")\n",
    "    .encode(\n",
    "        alt.X(\n",
    "            \"titer_cutoff\",\n",
    "            scale=alt.Scale(zero=False, nice=False, type=\"log\", padding=5),\n",
    "            title=\"neutralization titer cutoff\",\n",
    "            axis=alt.Axis(grid=False, labelOverlap=True),\n",
    "        ),\n",
    "        alt.Y(\"correlation\", axis=alt.Axis(grid=False)),\n",
    "        alt.Color(\n",
    "            \"actual:N\",\n",
    "            scale=alt.Scale(domain=[True, False], range=[\"black\", \"slateblue\"]),\n",
    "            legend=None,\n",
    "        ),\n",
    "        alt.Opacity(\n",
    "            \"actual:N\",\n",
    "            scale=alt.Scale(domain=[True, False], range=[1, 0.15]),\n",
    "        ),\n",
    "        alt.StrokeWidth(\n",
    "            \"actual:N\",\n",
    "            scale=alt.Scale(domain=[True, False], range=[2, 1]),\n",
    "        ),\n",
    "        alt.Detail(\"dataset\"),\n",
    "        tooltip=[\n",
    "            \"dataset\",\n",
    "            alt.Tooltip(\"titer_cutoff\", format=\".1f\"),\n",
    "            alt.Tooltip(\"correlation\", format=\".2f\"),\n",
    "        ],\n",
    "    )\n",
    "    .mark_line()\n",
    "    .properties(\n",
    "        width=250,\n",
    "        height=170,\n",
    "        title=alt.TitleParams(\n",
    "            [\n",
    "                \"correlation of strain growth with\",\n",
    "                \"fraction sera with titers below cutoff\",\n",
    "            ],\n",
    "            subtitle=[\n",
    "                \"thick black line is actual data; thin\",\n",
    "                f\"blue lines are {nrandom} randomizations\",\n",
    "            ],\n",
    "        ),\n",
    "    )\n",
    ")\n",
    "\n",
    "corr_cutoffs_chart"
   ]
  },
  {
   "cell_type": "markdown",
   "id": "8c623d5f-0bab-4ca5-8b88-e2271ea3cbb9",
   "metadata": {
    "execution": {
     "iopub.execute_input": "2024-09-12T20:09:03.374865Z",
     "iopub.status.busy": "2024-09-12T20:09:03.374141Z",
     "iopub.status.idle": "2024-09-12T20:09:03.396704Z",
     "shell.execute_reply": "2024-09-12T20:09:03.395667Z",
     "shell.execute_reply.started": "2024-09-12T20:09:03.374812Z"
    }
   },
   "source": [
    "Plot the correlation scatter plots:"
   ]
  },
  {
   "cell_type": "code",
   "execution_count": null,
   "id": "cc43a8ac-f4e1-4873-8695-f38708909477",
   "metadata": {},
   "outputs": [],
   "source": [
    "corr_base = alt.Chart(\n",
    "    growth_actual_scatter.assign(\n",
    "        ga_label=lambda x: x.apply(\n",
    "            lambda r: f\"{r['growth_advantage_median']:.2f} [{r['growth_advantage_hpd_min']:.2f} - {r['growth_advantage_hpd_max']:.2f}]\",\n",
    "            axis=1,\n",
    "        )\n",
    "    )\n",
    ")\n",
    "\n",
    "strain_sel = alt.selection_point(fields=[\"strain\"], on=\"mouseover\", empty=False)\n",
    "\n",
    "corr_charts = []\n",
    "first = True\n",
    "for stat in [\"mean_titer\", \"median_titer\", \"frac_below_titer\"]:\n",
    "    stat_name = {\n",
    "        \"mean_titer\": \"mean titer\",\n",
    "        \"median_titer\": \"median titer\",\n",
    "        \"frac_below_titer\": f\"fraction sera with titer < {best_cutoff:.0f}\",\n",
    "    }[stat]\n",
    "\n",
    "    corr_scatter = (\n",
    "        corr_base\n",
    "        .encode(\n",
    "            alt.X(\n",
    "                stat,\n",
    "                title=stat_name,\n",
    "                scale=alt.Scale(\n",
    "                    zero=False,\n",
    "                    nice=False,\n",
    "                    padding=6,\n",
    "                    type=\"linear\" if stat == \"frac_below_titer\" else \"log\",\n",
    "                ),\n",
    "                axis=alt.Axis(grid=False, labelOverlap=True),\n",
    "            ),\n",
    "            alt.Y(\n",
    "                \"growth_advantage_median\",\n",
    "                title=\"growth advantage\" if first else None,\n",
    "                scale=alt.Scale(zero=False, nice=False, padding=6),\n",
    "                axis=alt.Axis(grid=False, labels=first),\n",
    "            ),\n",
    "            stroke=alt.condition(strain_sel, alt.value(\"red\"), alt.value(\"black\")),\n",
    "            strokeWidth=alt.condition(strain_sel, alt.value(2), alt.value(1)),\n",
    "            tooltip=[\n",
    "                \"strain\",\n",
    "                alt.Tooltip(\"ga_label\", title=\"growth advantage\"),\n",
    "                alt.Tooltip(stat, title=stat_name, format=\".2f\"),\n",
    "            ],\n",
    "        )\n",
    "        .mark_circle(size=45, color=\"black\", strokeOpacity=1, fillOpacity=0.5)\n",
    "        .properties(width=150, height=150)\n",
    "    )\n",
    "    corr_errorbar = (\n",
    "        corr_base\n",
    "        .encode(\n",
    "            alt.X(stat),\n",
    "            alt.Y(\"growth_advantage_hpd_min\"),\n",
    "            alt.Y2(\"growth_advantage_hpd_max\"),\n",
    "        )\n",
    "        .mark_rule(color=\"black\")\n",
    "    )\n",
    "    corr_text = (\n",
    "        alt.Chart(corrs_and_pvals[corrs_and_pvals[\"stat\"] == stat])\n",
    "        .encode(\n",
    "            x=alt.value(2) if stat == \"frac_below_titer\" else alt.value(148),\n",
    "            y=alt.value(2),\n",
    "            text=\"label\",\n",
    "        )\n",
    "        .mark_text(\n",
    "            baseline=\"top\",\n",
    "            align=\"left\" if stat == \"frac_below_titer\" else \"right\",\n",
    "            color=\"blue\",\n",
    "        )\n",
    "    )\n",
    "\n",
    "    corr_charts.append(corr_scatter + corr_errorbar + corr_text)\n",
    "\n",
    "    first = False\n",
    "\n",
    "corr_chart = alt.hconcat(*corr_charts, spacing=7).add_params(strain_sel).properties(\n",
    "    title=alt.TitleParams(\n",
    "        f\"strain growth versus neutralization by {nsera} sera\",\n",
    "        anchor=\"middle\",\n",
    "    ),\n",
    ")\n",
    "\n",
    "corr_chart"
   ]
  },
  {
   "cell_type": "markdown",
   "id": "024cc2be-7db2-4b93-ba33-5c42fbf3e836",
   "metadata": {
    "execution": {
     "iopub.execute_input": "2024-09-12T20:53:02.632966Z",
     "iopub.status.busy": "2024-09-12T20:53:02.632545Z",
     "iopub.status.idle": "2024-09-12T20:53:02.643520Z",
     "shell.execute_reply": "2024-09-12T20:53:02.642740Z",
     "shell.execute_reply.started": "2024-09-12T20:53:02.632937Z"
    }
   },
   "source": [
    "Make and save the overall chart:"
   ]
  },
  {
   "cell_type": "code",
   "execution_count": null,
   "id": "2092b0b5-baad-4d46-b196-0cabefc578e4",
   "metadata": {},
   "outputs": [],
   "source": [
    "chart = alt.vconcat(corr_chart, corr_cutoffs_chart, spacing=15).properties(\n",
    "    title=alt.TitleParams(\n",
    "        f\"strain growth vs neutralization for {desc}\",\n",
    "        anchor=\"middle\",\n",
    "        fontSize=15,\n",
    "        dy=-20,\n",
    "    )\n",
    ")\n",
    "\n",
    "print(f\"Saving to {chart_html}\")\n",
    "chart.save(chart_html)\n",
    "\n",
    "chart"
   ]
  },
  {
   "cell_type": "code",
   "execution_count": null,
   "id": "5f0d8227-c3e4-4806-94d4-0d3dbf81548d",
   "metadata": {},
   "outputs": [],
   "source": []
  }
 ],
 "metadata": {
  "kernelspec": {
   "display_name": "Python 3 (ipykernel)",
   "language": "python",
   "name": "python3"
  },
  "language_info": {
   "codemirror_mode": {
    "name": "ipython",
    "version": 3
   },
   "file_extension": ".py",
   "mimetype": "text/x-python",
   "name": "python",
   "nbconvert_exporter": "python",
   "pygments_lexer": "ipython3",
   "version": "3.12.5"
  }
 },
 "nbformat": 4,
 "nbformat_minor": 5
}
